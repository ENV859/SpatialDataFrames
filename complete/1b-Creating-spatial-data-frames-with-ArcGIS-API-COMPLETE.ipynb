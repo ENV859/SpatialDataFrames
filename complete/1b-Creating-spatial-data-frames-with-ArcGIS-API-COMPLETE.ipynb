{
 "cells": [
  {
   "cell_type": "markdown",
   "id": "24588580",
   "metadata": {},
   "source": [
    "# Spatial Dataframes 1b: Creating them using the ArcGIS API for Python\n",
    "ENV 859 - Fall 2024  \n",
    "© John Fay, Duke University"
   ]
  },
  {
   "cell_type": "markdown",
   "id": "48f52b3e",
   "metadata": {},
   "source": [
    "~~Note: This notebook should be run using the defauly Conda environment included with ArcGIS Pro~~"
   ]
  },
  {
   "cell_type": "markdown",
   "id": "0818bc89",
   "metadata": {},
   "source": [
    "### The ArcGIS Python API vs GeoPandas\n",
    "In ***Spatial Dataframes 1a*** we focused on reading data in to spatial dataframes using the **GeoPandas** package. Here we exlore an alternative: the **ArcGIS API for Python**. Why are there two packages? What's the difference? \n",
    "\n",
    "Both packages are built on-top of Pandas dataframes and include all the functionality of the Pandas package in dealing with spatial dataframes as standard dataframes. Both introduce geometries as a new data type, and by attaching these geometries to dataframes, enable various types of spatial analyses with our dataframes. \n",
    "\n",
    "The key difference seems to be from where they originated and how they evolved. GeoPandas is built off of the Shapely library for dealing with geometric objects and the Fiona library for reading and writing different recognized spatial data formats. And deeper down, Geopandas uses the open source GDAL (geospatial data abstraction library) as the computation engine that drives spatial analyses. \n",
    "\n",
    "The ArcGIS API for Python, in contrast, originated as a cloud based version of ESRI's ArcPy package. ESRI has long been developing cyberinfrastructure for web-based access to and processing of spatial data, and they have developed a host of Java based instructions for doing this. Recognizing the popularity of Python, however, ESRI has more recently developed the ArcGIS API for Python as an alternative to working with on-line spatial data. And included in this Python based offering is ESRI's own version of the spatial dataframe, what they call the \"***spatially enabled dataframe***\". \n",
    "\n",
    "The bottom line is that these two Python objects - GeoPandas' geodataframe and ESRI's spatially enabled dataframe - are quite similar, but have some key differences. They also evolve at different paces. Which one should you use? That depends on what you are doing, as each as its own advantages and limitations. The best thing to do is find a level of comfort with each and see how they compare across different tasks..."
   ]
  },
  {
   "cell_type": "markdown",
   "id": "4d59fe74",
   "metadata": {},
   "source": [
    "## The Lesson  - Constructing Spatial Dataframes with the ArcGIS API\n",
    "Similar to our last lesson using GeoPandas, we'll explore the techniques for importing data in various formats into spatial dataframes. We'll use the same datasets as that lesson so you can easily compare and contrast the methods.\n",
    "\n",
    "The source formats we examine include:\n",
    "1. [A delimited text file (e.g. CSV) containing coordinate columns and a know coordinate reference system](#1.1---Creating-spatial-dataframes-from-CSV-files-using-GeoPandas)\n",
    "2. [An existing feature class in the form of a shapefile or within a geodatabase](#1.2:-Creating-spatial-dataframes-from-existing-feature-classes)\n",
    "3. [Other formats: GeoJSON files, KML, and [kind of] GeoDatabases](#1.3---Creating-spatial-dataframes-from-other-file-formats)"
   ]
  },
  {
   "cell_type": "markdown",
   "id": "714cb0a5",
   "metadata": {},
   "source": [
    "### 1.1 - Creating spatial dataframes from CSV files using the ArcGIS Python API\n",
    "We revisit the electric vehicle charging locations in North Carolina obtained from the Alternative Fuels Data Center ([link](https://afdc.energy.gov/data_download)). \n",
    "\n",
    "The process of importing a CSV file into a \"spatially enabled dataframe\" is done via the ArcGIS API's [***GeoAccessor***](https://developers.arcgis.com/python/api-reference/arcgis.features.toc.html#geoaccessor) object, which has a function called `from_xy()` that converts a pandas dataframe to a spatial dataframe. This differes from the GeoPandas workflow in that we don't have to create a GeoSeries object; we just specify the X and Y coordinate columns."
   ]
  },
  {
   "cell_type": "markdown",
   "id": "a9ccbe60",
   "metadata": {},
   "source": [
    "#### Step 1. Import the GeoAccessor object and read the CSV file directly\n",
    "We could simply import the `arcgis` package in its entirety, but it is a rather large package and often we import the bits we need. In this case, we just want the GeoAccessor object, which is part of the `features` submodule of the `arcgis` package.\n",
    "\n",
    "We also import the Pandas package, used to read the CSV data into a standard dataframe. Then, we invoke the GeoAccessor's `read_xy()` function to \"upgrade\" the dataframe into a spatial dataframe. "
   ]
  },
  {
   "cell_type": "code",
   "execution_count": 1,
   "id": "ba1f13e6",
   "metadata": {},
   "outputs": [],
   "source": [
    "#Import pandas and the arcgis GeoAccessor object\n",
    "import pandas as pd\n",
    "from arcgis.features import GeoAccessor"
   ]
  },
  {
   "cell_type": "code",
   "execution_count": 2,
   "id": "69437523",
   "metadata": {},
   "outputs": [
    {
     "data": {
      "text/html": [
       "<div>\n",
       "<style scoped>\n",
       "    .dataframe tbody tr th:only-of-type {\n",
       "        vertical-align: middle;\n",
       "    }\n",
       "\n",
       "    .dataframe tbody tr th {\n",
       "        vertical-align: top;\n",
       "    }\n",
       "\n",
       "    .dataframe thead th {\n",
       "        text-align: right;\n",
       "    }\n",
       "</style>\n",
       "<table border=\"1\" class=\"dataframe\">\n",
       "  <thead>\n",
       "    <tr style=\"text-align: right;\">\n",
       "      <th></th>\n",
       "      <th>ID</th>\n",
       "      <th>Fuel Type Code</th>\n",
       "      <th>Station Name</th>\n",
       "      <th>City</th>\n",
       "      <th>State</th>\n",
       "      <th>ZIP</th>\n",
       "      <th>Status Code</th>\n",
       "      <th>Latitude</th>\n",
       "      <th>Longitude</th>\n",
       "      <th>Facility Type</th>\n",
       "    </tr>\n",
       "  </thead>\n",
       "  <tbody>\n",
       "    <tr>\n",
       "      <th>0</th>\n",
       "      <td>39016</td>\n",
       "      <td>ELEC</td>\n",
       "      <td>City of Raleigh - Municipal Building</td>\n",
       "      <td>Raleigh</td>\n",
       "      <td>NC</td>\n",
       "      <td>27601</td>\n",
       "      <td>E</td>\n",
       "      <td>35.778416</td>\n",
       "      <td>-78.643470</td>\n",
       "      <td>STREET_PARKING</td>\n",
       "    </tr>\n",
       "    <tr>\n",
       "      <th>1</th>\n",
       "      <td>39017</td>\n",
       "      <td>ELEC</td>\n",
       "      <td>City of Raleigh - Downtown</td>\n",
       "      <td>Raleigh</td>\n",
       "      <td>NC</td>\n",
       "      <td>27601</td>\n",
       "      <td>E</td>\n",
       "      <td>35.774350</td>\n",
       "      <td>-78.642287</td>\n",
       "      <td>STREET_PARKING</td>\n",
       "    </tr>\n",
       "  </tbody>\n",
       "</table>\n",
       "</div>"
      ],
      "text/plain": [
       "      ID Fuel Type Code                          Station Name     City State  \\\n",
       "0  39016           ELEC  City of Raleigh - Municipal Building  Raleigh    NC   \n",
       "1  39017           ELEC            City of Raleigh - Downtown  Raleigh    NC   \n",
       "\n",
       "     ZIP Status Code   Latitude  Longitude   Facility Type  \n",
       "0  27601           E  35.778416 -78.643470  STREET_PARKING  \n",
       "1  27601           E  35.774350 -78.642287  STREET_PARKING  "
      ]
     },
     "execution_count": 2,
     "metadata": {},
     "output_type": "execute_result"
    }
   ],
   "source": [
    "#Read the data into a Pandas dataframe\n",
    "df = pd.read_csv('../data/NC_Charging_Stations.csv')\n",
    "df.head(2)"
   ]
  },
  {
   "cell_type": "code",
   "execution_count": 3,
   "id": "fc41ef7d",
   "metadata": {},
   "outputs": [
    {
     "name": "stdout",
     "output_type": "stream",
     "text": [
      "\u001b[1;31mSignature:\u001b[0m\n",
      "\u001b[0mGeoAccessor\u001b[0m\u001b[1;33m.\u001b[0m\u001b[0mfrom_xy\u001b[0m\u001b[1;33m(\u001b[0m\u001b[1;33m\n",
      "\u001b[0m    \u001b[0mdf\u001b[0m\u001b[1;33m,\u001b[0m\u001b[1;33m\n",
      "\u001b[0m    \u001b[0mx_column\u001b[0m\u001b[1;33m,\u001b[0m\u001b[1;33m\n",
      "\u001b[0m    \u001b[0my_column\u001b[0m\u001b[1;33m,\u001b[0m\u001b[1;33m\n",
      "\u001b[0m    \u001b[0msr\u001b[0m\u001b[1;33m=\u001b[0m\u001b[1;36m4326\u001b[0m\u001b[1;33m,\u001b[0m\u001b[1;33m\n",
      "\u001b[0m    \u001b[0mz_column\u001b[0m\u001b[1;33m=\u001b[0m\u001b[1;32mNone\u001b[0m\u001b[1;33m,\u001b[0m\u001b[1;33m\n",
      "\u001b[0m    \u001b[0mm_column\u001b[0m\u001b[1;33m=\u001b[0m\u001b[1;32mNone\u001b[0m\u001b[1;33m,\u001b[0m\u001b[1;33m\n",
      "\u001b[0m    \u001b[1;33m**\u001b[0m\u001b[0mkwargs\u001b[0m\u001b[1;33m,\u001b[0m\u001b[1;33m\n",
      "\u001b[0m\u001b[1;33m)\u001b[0m\u001b[1;33m\u001b[0m\u001b[1;33m\u001b[0m\u001b[0m\n",
      "\u001b[1;31mDocstring:\u001b[0m\n",
      "The ``from_xy`` method converts a Pandas DataFrame into a Spatially Enabled DataFrame\n",
      "by providing the X/Y columns.\n",
      "\n",
      "====================    =========================================================\n",
      "**Parameter**            **Description**\n",
      "--------------------    ---------------------------------------------------------\n",
      "df                      Required Pandas DataFrame. Source dataset\n",
      "--------------------    ---------------------------------------------------------\n",
      "x_column                Required string.  The name of the X-coordinate series\n",
      "--------------------    ---------------------------------------------------------\n",
      "y_column                Required string.  The name of the Y-coordinate series\n",
      "--------------------    ---------------------------------------------------------\n",
      "sr                      Optional int.  The wkid number of the spatial reference.\n",
      "                        4326 is the default value.\n",
      "--------------------    ---------------------------------------------------------\n",
      "z_column                Optional string.  The name of the Z-coordinate series\n",
      "--------------------    ---------------------------------------------------------\n",
      "m_column                Optional string.  The name of the M-value series\n",
      "====================    =========================================================\n",
      "\n",
      "\n",
      "====================    =========================================================\n",
      "**kwargs**              **Description**\n",
      "--------------------    ---------------------------------------------------------\n",
      "oid_field               Optional string. If the value is provided the OID field\n",
      "                        will not be converted from int64 to int32.\n",
      "====================    =========================================================\n",
      "\n",
      ":return: DataFrame\n",
      "\u001b[1;31mFile:\u001b[0m      c:\\users\\jpfay\\appdata\\local\\esri\\conda\\envs\\gis\\lib\\site-packages\\arcgis\\features\\geo\\_accessor.py\n",
      "\u001b[1;31mType:\u001b[0m      function\n"
     ]
    }
   ],
   "source": [
    "#Review the read_xy() function's syntax\n",
    "GeoAccessor.from_xy?"
   ]
  },
  {
   "cell_type": "markdown",
   "id": "116c72c8",
   "metadata": {},
   "source": [
    "##### ►Spatial references with the GeoAccessor object\n",
    "Spatial references (aka coordinate reference systems in GeoPandas) are also handled via WKIDs. "
   ]
  },
  {
   "cell_type": "code",
   "execution_count": 4,
   "id": "f27fb264",
   "metadata": {},
   "outputs": [],
   "source": [
    "#Read the EV Charging station data into a Pandas dataframe\n",
    "sdf = GeoAccessor.from_xy(df,x_column='Longitude',y_column='Latitude',sr=4326)"
   ]
  },
  {
   "cell_type": "markdown",
   "id": "739475dd",
   "metadata": {},
   "source": [
    "#### 1.2 Explore our new object"
   ]
  },
  {
   "cell_type": "code",
   "execution_count": 5,
   "id": "25723ab1",
   "metadata": {},
   "outputs": [
    {
     "data": {
      "text/html": [
       "<div>\n",
       "<style scoped>\n",
       "    .dataframe tbody tr th:only-of-type {\n",
       "        vertical-align: middle;\n",
       "    }\n",
       "\n",
       "    .dataframe tbody tr th {\n",
       "        vertical-align: top;\n",
       "    }\n",
       "\n",
       "    .dataframe thead th {\n",
       "        text-align: right;\n",
       "    }\n",
       "</style>\n",
       "<table border=\"1\" class=\"dataframe\">\n",
       "  <thead>\n",
       "    <tr style=\"text-align: right;\">\n",
       "      <th></th>\n",
       "      <th>ID</th>\n",
       "      <th>Fuel Type Code</th>\n",
       "      <th>Station Name</th>\n",
       "      <th>City</th>\n",
       "      <th>State</th>\n",
       "      <th>ZIP</th>\n",
       "      <th>Status Code</th>\n",
       "      <th>Latitude</th>\n",
       "      <th>Longitude</th>\n",
       "      <th>Facility Type</th>\n",
       "      <th>SHAPE</th>\n",
       "    </tr>\n",
       "  </thead>\n",
       "  <tbody>\n",
       "    <tr>\n",
       "      <th>0</th>\n",
       "      <td>39016</td>\n",
       "      <td>ELEC</td>\n",
       "      <td>City of Raleigh - Municipal Building</td>\n",
       "      <td>Raleigh</td>\n",
       "      <td>NC</td>\n",
       "      <td>27601</td>\n",
       "      <td>E</td>\n",
       "      <td>35.778416</td>\n",
       "      <td>-78.643470</td>\n",
       "      <td>STREET_PARKING</td>\n",
       "      <td>{\"spatialReference\": {\"wkid\": 4326}, \"x\": -78....</td>\n",
       "    </tr>\n",
       "    <tr>\n",
       "      <th>1</th>\n",
       "      <td>39017</td>\n",
       "      <td>ELEC</td>\n",
       "      <td>City of Raleigh - Downtown</td>\n",
       "      <td>Raleigh</td>\n",
       "      <td>NC</td>\n",
       "      <td>27601</td>\n",
       "      <td>E</td>\n",
       "      <td>35.774350</td>\n",
       "      <td>-78.642287</td>\n",
       "      <td>STREET_PARKING</td>\n",
       "      <td>{\"spatialReference\": {\"wkid\": 4326}, \"x\": -78....</td>\n",
       "    </tr>\n",
       "  </tbody>\n",
       "</table>\n",
       "</div>"
      ],
      "text/plain": [
       "      ID Fuel Type Code                          Station Name     City State  \\\n",
       "0  39016           ELEC  City of Raleigh - Municipal Building  Raleigh    NC   \n",
       "1  39017           ELEC            City of Raleigh - Downtown  Raleigh    NC   \n",
       "\n",
       "     ZIP Status Code   Latitude  Longitude   Facility Type  \\\n",
       "0  27601           E  35.778416 -78.643470  STREET_PARKING   \n",
       "1  27601           E  35.774350 -78.642287  STREET_PARKING   \n",
       "\n",
       "                                               SHAPE  \n",
       "0  {\"spatialReference\": {\"wkid\": 4326}, \"x\": -78....  \n",
       "1  {\"spatialReference\": {\"wkid\": 4326}, \"x\": -78....  "
      ]
     },
     "execution_count": 5,
     "metadata": {},
     "output_type": "execute_result"
    }
   ],
   "source": [
    "#View a few records\n",
    "sdf.head(2)"
   ]
  },
  {
   "cell_type": "code",
   "execution_count": 6,
   "id": "cfb91faf",
   "metadata": {},
   "outputs": [
    {
     "data": {
      "text/plain": [
       "pandas.core.frame.DataFrame"
      ]
     },
     "execution_count": 6,
     "metadata": {},
     "output_type": "execute_result"
    }
   ],
   "source": [
    "#Examine the data type of the object we just created\n",
    "type(sdf)"
   ]
  },
  {
   "cell_type": "markdown",
   "id": "5438c868",
   "metadata": {},
   "source": [
    "*►Hmmm... that's odd. It's still a Pandas dataframe --- or so it appears.* \n",
    "\n",
    "The ArcGIS API handles dataframes a bit differently. The object we created *is* recognized as a Pandas dataframe, but we can now append `.spatial` to the end of it to access its spatial capabilities..."
   ]
  },
  {
   "cell_type": "code",
   "execution_count": 7,
   "id": "a55fbc27",
   "metadata": {},
   "outputs": [
    {
     "data": {
      "text/plain": [
       "arcgis.features.geo._accessor.GeoAccessor"
      ]
     },
     "execution_count": 7,
     "metadata": {},
     "output_type": "execute_result"
    }
   ],
   "source": [
    "#Examine the \"spatially enabled\" dataframe\n",
    "type(sdf.spatial)"
   ]
  },
  {
   "cell_type": "code",
   "execution_count": 8,
   "id": "441857c1",
   "metadata": {},
   "outputs": [
    {
     "data": {
      "text/plain": [
       "['point']"
      ]
     },
     "execution_count": 8,
     "metadata": {},
     "output_type": "execute_result"
    }
   ],
   "source": [
    "#Examine a few properties of this object\n",
    "sdf.spatial.geometry_type"
   ]
  },
  {
   "cell_type": "code",
   "execution_count": 9,
   "id": "79eb296e",
   "metadata": {},
   "outputs": [
    {
     "data": {
      "application/vnd.jupyter.widget-view+json": {
       "model_id": "10775bb3cc2b4978afcf4be7eddf01a4",
       "version_major": 2,
       "version_minor": 0
      },
      "text/plain": [
       "MapView(layout=Layout(height='400px', width='100%'))"
      ]
     },
     "metadata": {},
     "output_type": "display_data"
    },
    {
     "data": {
      "text/html": [
       "<div class=\"map-static-img-preview-aed45315-95ac-41c6-9229-d8bb9b1e76c4\"><img src=\"\"></img></div>"
      ],
      "text/plain": [
       "<IPython.core.display.HTML object>"
      ]
     },
     "metadata": {},
     "output_type": "display_data"
    },
    {
     "data": {
      "text/html": [
       "<div class=\"map-html-embed-preview-aed45315-95ac-41c6-9229-d8bb9b1e76c4\"></div>"
      ],
      "text/plain": [
       "<IPython.core.display.HTML object>"
      ]
     },
     "metadata": {},
     "output_type": "display_data"
    }
   ],
   "source": [
    "#Plot the data\n",
    "sdf.spatial.plot()"
   ]
  },
  {
   "cell_type": "markdown",
   "id": "b6fd255d",
   "metadata": {},
   "source": [
    "### 1.2: Creating spatial dataframes from existing feature classes\n",
    "Here we look at the process of getting existing feature classes, e.g. Shapefiles, into spatial dataframes. Now we'll do this using the ArcGIS API for Python. \n",
    "\n",
    "The dataset we'll use represents major river basins of North Carolina (source: https://data-ncdenr.opendata.arcgis.com/datasets/ncdenr::major-river-basins), a copy of which has been downloaded into the data folder as `Major_Basins.shp`. "
   ]
  },
  {
   "cell_type": "markdown",
   "id": "40f9e903",
   "metadata": {},
   "source": [
    "#### Step 1. Importing shapefiles using `from_featureclass()`\n",
    "Importing feature classes using GeoPandas is easy with the `from_featureclass()` command. "
   ]
  },
  {
   "cell_type": "code",
   "execution_count": 10,
   "id": "034608dd",
   "metadata": {},
   "outputs": [
    {
     "name": "stdout",
     "output_type": "stream",
     "text": [
      "\u001b[1;31mSignature:\u001b[0m \u001b[0mGeoAccessor\u001b[0m\u001b[1;33m.\u001b[0m\u001b[0mfrom_featureclass\u001b[0m\u001b[1;33m(\u001b[0m\u001b[0mlocation\u001b[0m\u001b[1;33m,\u001b[0m \u001b[1;33m**\u001b[0m\u001b[0mkwargs\u001b[0m\u001b[1;33m)\u001b[0m\u001b[1;33m\u001b[0m\u001b[1;33m\u001b[0m\u001b[0m\n",
      "\u001b[1;31mDocstring:\u001b[0m\n",
      "The ``from_featureclass`` creates a Spatially enabled `pandas.DataFrame` from a\n",
      ":class:`~arcgis.features.Features` class.\n",
      "\n",
      ".. note::\n",
      "    Null integer values will be changed to 0 when using shapely instead\n",
      "    of ArcPy due to shapely conventions.\n",
      "    With ArcPy null integer values will remain null.\n",
      "\n",
      "===========================     ====================================================================\n",
      "**Parameter**                    **Description**\n",
      "---------------------------     --------------------------------------------------------------------\n",
      "location                        Required string or pathlib.Path. Full path to the feature class or URL (shapefile only).\n",
      "===========================     ====================================================================\n",
      "\n",
      "*Optional parameters when ArcPy library is available in the current environment*:\n",
      "\n",
      "===========================     ====================================================================\n",
      "**Optional Argument**           **Description**\n",
      "---------------------------     --------------------------------------------------------------------\n",
      "sql_clause                      sql clause to parse data down. To learn more see\n",
      "                                `ArcPy Search Cursor <https://pro.arcgis.com/en/pro-app/arcpy/data-access/searchcursor-class.htm>`_\n",
      "---------------------------     --------------------------------------------------------------------\n",
      "where_clause                    where statement. To learn more see `ArcPy SQL reference <https://pro.arcgis.com/en/pro-app/help/mapping/navigation/sql-reference-for-elements-used-in-query-expressions.htm>`_\n",
      "---------------------------     --------------------------------------------------------------------\n",
      "fields                          list of strings specifying the field names.\n",
      "---------------------------     --------------------------------------------------------------------\n",
      "spatial_filter                  A `Geometry` object that will filter the results.  This requires\n",
      "                                `arcpy` to work.\n",
      "---------------------------     --------------------------------------------------------------------\n",
      "sr                              A Spatial reference to project (or transform) output GeoDataFrame\n",
      "                                to. This requires `arcpy` to work.\n",
      "---------------------------     --------------------------------------------------------------------\n",
      "datum_transformation            Used in combination with 'sr' parameter. if the spatial reference of\n",
      "                                output GeoDataFrame and input data do not share the same datum,\n",
      "                                an appropriate datum transformation should be specified.\n",
      "                                To Learn more see [Geographic datum transformations](https://pro.arcgis.com/en/pro-app/help/mapping/properties/geographic-coordinate-system-transformation.htm)\n",
      "                                This requires `arcpy` to work.\n",
      "===========================     ====================================================================\n",
      "\n",
      "**Optional Parameters are not supported for URL based resources**\n",
      "\n",
      ":return:\n",
      "    A pandas.core.frame.DataFrame object\n",
      "\u001b[1;31mFile:\u001b[0m      c:\\users\\jpfay\\appdata\\local\\esri\\conda\\envs\\gis\\lib\\site-packages\\arcgis\\features\\geo\\_accessor.py\n",
      "\u001b[1;31mType:\u001b[0m      function\n"
     ]
    }
   ],
   "source": [
    "#Explore the GeoAccessor's from_featureclass() command\n",
    "GeoAccessor.from_featureclass?"
   ]
  },
  {
   "cell_type": "code",
   "execution_count": 11,
   "id": "364c7ea1",
   "metadata": {},
   "outputs": [
    {
     "name": "stderr",
     "output_type": "stream",
     "text": [
      "c:\\Users\\jpfay\\AppData\\Local\\ESRI\\conda\\envs\\gis\\Lib\\site-packages\\pandas\\core\\dtypes\\cast.py:1066: RuntimeWarning: invalid value encountered in cast\n",
      "  if (arr.astype(int) == arr).all():\n",
      "c:\\Users\\jpfay\\AppData\\Local\\ESRI\\conda\\envs\\gis\\Lib\\site-packages\\pandas\\core\\dtypes\\cast.py:1091: RuntimeWarning: invalid value encountered in cast\n",
      "  if (arr.astype(int) == arr).all():\n"
     ]
    }
   ],
   "source": [
    "#Read the shapefile into a GeoPandas geodataframe\n",
    "sdf_shp = GeoAccessor.from_featureclass('../data/Major_Basins.shp')"
   ]
  },
  {
   "cell_type": "code",
   "execution_count": 12,
   "id": "9a4822a0",
   "metadata": {},
   "outputs": [
    {
     "data": {
      "text/html": [
       "<div>\n",
       "<style scoped>\n",
       "    .dataframe tbody tr th:only-of-type {\n",
       "        vertical-align: middle;\n",
       "    }\n",
       "\n",
       "    .dataframe tbody tr th {\n",
       "        vertical-align: top;\n",
       "    }\n",
       "\n",
       "    .dataframe thead th {\n",
       "        text-align: right;\n",
       "    }\n",
       "</style>\n",
       "<table border=\"1\" class=\"dataframe\">\n",
       "  <thead>\n",
       "    <tr style=\"text-align: right;\">\n",
       "      <th></th>\n",
       "      <th>FID</th>\n",
       "      <th>FID_1</th>\n",
       "      <th>Basin</th>\n",
       "      <th>Sq_Miles</th>\n",
       "      <th>Acres</th>\n",
       "      <th>Name</th>\n",
       "      <th>PlanLink</th>\n",
       "      <th>SHAPE_Leng</th>\n",
       "      <th>SHAPE_Area</th>\n",
       "      <th>SHAPE</th>\n",
       "    </tr>\n",
       "  </thead>\n",
       "  <tbody>\n",
       "    <tr>\n",
       "      <th>0</th>\n",
       "      <td>0</td>\n",
       "      <td>1</td>\n",
       "      <td>BRD</td>\n",
       "      <td>1513.894812</td>\n",
       "      <td>968892.679825</td>\n",
       "      <td>Broad</td>\n",
       "      <td>https://deq.nc.gov/about/divisions/water-resou...</td>\n",
       "      <td>558125.849794</td>\n",
       "      <td>-5910818705.639643</td>\n",
       "      <td>{\"rings\": [[[-9213866.2715, 4173023.750500001]...</td>\n",
       "    </tr>\n",
       "    <tr>\n",
       "      <th>1</th>\n",
       "      <td>1</td>\n",
       "      <td>2</td>\n",
       "      <td>CAT</td>\n",
       "      <td>3285.405145</td>\n",
       "      <td>2102659.29272</td>\n",
       "      <td>Catawba</td>\n",
       "      <td>https://deq.nc.gov/about/divisions/water-resou...</td>\n",
       "      <td>856739.97408</td>\n",
       "      <td>-12897941599.943258</td>\n",
       "      <td>{\"rings\": [[[-9094141.1919, 4320798.406099997]...</td>\n",
       "    </tr>\n",
       "  </tbody>\n",
       "</table>\n",
       "</div>"
      ],
      "text/plain": [
       "   FID  FID_1 Basin     Sq_Miles          Acres     Name  \\\n",
       "0    0      1   BRD  1513.894812  968892.679825    Broad   \n",
       "1    1      2   CAT  3285.405145  2102659.29272  Catawba   \n",
       "\n",
       "                                            PlanLink     SHAPE_Leng  \\\n",
       "0  https://deq.nc.gov/about/divisions/water-resou...  558125.849794   \n",
       "1  https://deq.nc.gov/about/divisions/water-resou...   856739.97408   \n",
       "\n",
       "           SHAPE_Area                                              SHAPE  \n",
       "0  -5910818705.639643  {\"rings\": [[[-9213866.2715, 4173023.750500001]...  \n",
       "1 -12897941599.943258  {\"rings\": [[[-9094141.1919, 4320798.406099997]...  "
      ]
     },
     "execution_count": 12,
     "metadata": {},
     "output_type": "execute_result"
    }
   ],
   "source": [
    "#Examine the data\n",
    "sdf_shp.head(2)"
   ]
  },
  {
   "cell_type": "code",
   "execution_count": 13,
   "id": "c985e391",
   "metadata": {},
   "outputs": [
    {
     "data": {
      "text/plain": [
       "{'wkid': 102100, 'latestWkid': 3857}"
      ]
     },
     "execution_count": 13,
     "metadata": {},
     "output_type": "execute_result"
    }
   ],
   "source": [
    "#What is the spatial reference of the data\n",
    "sdf_shp.spatial.sr"
   ]
  },
  {
   "cell_type": "code",
   "execution_count": 14,
   "id": "e7c2f4ad",
   "metadata": {},
   "outputs": [
    {
     "data": {
      "application/vnd.jupyter.widget-view+json": {
       "model_id": "45e762900a014ec999728a49ae3e382f",
       "version_major": 2,
       "version_minor": 0
      },
      "text/plain": [
       "MapView(layout=Layout(height='400px', width='100%'))"
      ]
     },
     "metadata": {},
     "output_type": "display_data"
    },
    {
     "data": {
      "text/html": [
       "<div class=\"map-static-img-preview-0a11f1df-5f0e-4684-9f83-ca21d0e09b54\"><img src=\"\"></img></div>"
      ],
      "text/plain": [
       "<IPython.core.display.HTML object>"
      ]
     },
     "metadata": {},
     "output_type": "display_data"
    },
    {
     "data": {
      "text/html": [
       "<div class=\"map-html-embed-preview-0a11f1df-5f0e-4684-9f83-ca21d0e09b54\"></div>"
      ],
      "text/plain": [
       "<IPython.core.display.HTML object>"
      ]
     },
     "metadata": {},
     "output_type": "display_data"
    }
   ],
   "source": [
    "#Plot the data...\n",
    "sdf_shp.spatial.plot()"
   ]
  },
  {
   "cell_type": "markdown",
   "id": "790d39be",
   "metadata": {},
   "source": [
    "### 1.3 - Creating spatial dataframes from other file formats\n",
    "\n",
    "A look at the other \"`from_`\" operations associated with the GeoAccessor object reveals other datasources we can read into ArcGIS spatally enabled dataframes. GeoJSON and KML are NOT listed here (though GeoDataframe is, meaning we can potentially read in these files using GeoPandas into a geodataframe, and then convert this into a spatially enabled dataframe...)."
   ]
  },
  {
   "cell_type": "code",
   "execution_count": null,
   "id": "fb1c3eea",
   "metadata": {},
   "outputs": [],
   "source": [
    "#Explore other import options associated with the GeoAccessor object\n",
    "GeoAccessor."
   ]
  },
  {
   "cell_type": "markdown",
   "id": "3285bc97",
   "metadata": {},
   "source": [
    "Recalling that the ArcGIS Python API was developed for cloud-based computing, however, we see that it is quite adept at working with on-line resources. For example, you may have noticed pages that look like this:  \n",
    "<https://services.nconemap.gov/secure/rest/services>  \n",
    "\n",
    "This is a listing of a number of spatial (and sometimes non-spatial) datasets served online. Click on some of the links labeled \"Feature Server\" and that will reveal feature layers associated with that service. For example:   \n",
    "https://services.nconemap.gov/secure/rest/services/NC1Map_Regional_Boundaries/FeatureServer \n",
    "Reveals two layers (state boundaries (1) and county boundaries (1)\n",
    "\n",
    "The ArcGIS API can import these as spatial dataframes fairly easily from the web address associated with these layers. This is done not with the *GeoAccessor*, but with the ***FeatureLayer*** object..."
   ]
  },
  {
   "cell_type": "code",
   "execution_count": 16,
   "id": "30730f7f",
   "metadata": {},
   "outputs": [],
   "source": [
    "#Import the FeatureLayer arcgis package\n",
    "from arcgis.features import FeatureLayer"
   ]
  },
  {
   "cell_type": "code",
   "execution_count": 17,
   "id": "44f0c035",
   "metadata": {},
   "outputs": [],
   "source": [
    "#Set the urls where the feature layer are hosted\n",
    "state_layer_url = 'https://services.nconemap.gov/secure/rest/services/NC1Map_Regional_Boundaries/FeatureServer/0'\n",
    "county_layer_url = 'https://services.nconemap.gov/secure/rest/services/NC1Map_Regional_Boundaries/FeatureServer/1'"
   ]
  },
  {
   "cell_type": "code",
   "execution_count": 18,
   "id": "99a1bd43",
   "metadata": {},
   "outputs": [
    {
     "data": {
      "text/plain": [
       "arcgis.features.layer.FeatureLayer"
      ]
     },
     "execution_count": 18,
     "metadata": {},
     "output_type": "execute_result"
    }
   ],
   "source": [
    "#Read the data in as a feature layer\n",
    "state_layer = FeatureLayer(state_layer_url)\n",
    "type(state_layer)"
   ]
  },
  {
   "cell_type": "code",
   "execution_count": 19,
   "id": "cc0320a9",
   "metadata": {},
   "outputs": [],
   "source": [
    "#Conver to a spatial dataframe\n",
    "sdf_state = GeoAccessor.from_layer(state_layer)"
   ]
  },
  {
   "cell_type": "code",
   "execution_count": 20,
   "id": "8ada699f",
   "metadata": {},
   "outputs": [
    {
     "data": {
      "text/html": [
       "<div>\n",
       "<style scoped>\n",
       "    .dataframe tbody tr th:only-of-type {\n",
       "        vertical-align: middle;\n",
       "    }\n",
       "\n",
       "    .dataframe tbody tr th {\n",
       "        vertical-align: top;\n",
       "    }\n",
       "\n",
       "    .dataframe thead th {\n",
       "        text-align: right;\n",
       "    }\n",
       "</style>\n",
       "<table border=\"1\" class=\"dataframe\">\n",
       "  <thead>\n",
       "    <tr style=\"text-align: right;\">\n",
       "      <th></th>\n",
       "      <th>onemap_sdeadmin_usa_states_area</th>\n",
       "      <th>Shape__Area</th>\n",
       "      <th>Shape__Length</th>\n",
       "      <th>objectid</th>\n",
       "      <th>perimeter</th>\n",
       "      <th>statesp020</th>\n",
       "      <th>state</th>\n",
       "      <th>state_fips</th>\n",
       "      <th>order_adm</th>\n",
       "      <th>month_adm</th>\n",
       "      <th>day_adm</th>\n",
       "      <th>year_adm</th>\n",
       "      <th>SHAPE</th>\n",
       "    </tr>\n",
       "  </thead>\n",
       "  <tbody>\n",
       "    <tr>\n",
       "      <th>0</th>\n",
       "      <td>267.357</td>\n",
       "      <td>1979285583586.921143</td>\n",
       "      <td>29922889.954455</td>\n",
       "      <td>1</td>\n",
       "      <td>374.768</td>\n",
       "      <td>2.0</td>\n",
       "      <td>Alaska</td>\n",
       "      <td>02</td>\n",
       "      <td>49</td>\n",
       "      <td>January</td>\n",
       "      <td>3.0</td>\n",
       "      <td>1959.0</td>\n",
       "      <td>{\"rings\": [[[-2744517.7946000025, 5879742.8082...</td>\n",
       "    </tr>\n",
       "    <tr>\n",
       "      <th>1</th>\n",
       "      <td>0.0</td>\n",
       "      <td>3382181.319962</td>\n",
       "      <td>12074.827452</td>\n",
       "      <td>2</td>\n",
       "      <td>0.224</td>\n",
       "      <td>3.0</td>\n",
       "      <td>Alaska</td>\n",
       "      <td>02</td>\n",
       "      <td>49</td>\n",
       "      <td>January</td>\n",
       "      <td>3.0</td>\n",
       "      <td>1959.0</td>\n",
       "      <td>{\"rings\": [[[-2657753.126500003, 5868445.36879...</td>\n",
       "    </tr>\n",
       "    <tr>\n",
       "      <th>2</th>\n",
       "      <td>0.0</td>\n",
       "      <td>1576285.42491</td>\n",
       "      <td>6235.419621</td>\n",
       "      <td>3</td>\n",
       "      <td>0.118</td>\n",
       "      <td>4.0</td>\n",
       "      <td>Alaska</td>\n",
       "      <td>02</td>\n",
       "      <td>49</td>\n",
       "      <td>January</td>\n",
       "      <td>3.0</td>\n",
       "      <td>1959.0</td>\n",
       "      <td>{\"rings\": [[[-2653616.897699997, 5848470.94200...</td>\n",
       "    </tr>\n",
       "    <tr>\n",
       "      <th>3</th>\n",
       "      <td>0.0</td>\n",
       "      <td>2656460.95422</td>\n",
       "      <td>15243.315954</td>\n",
       "      <td>4</td>\n",
       "      <td>0.276</td>\n",
       "      <td>5.0</td>\n",
       "      <td>Alaska</td>\n",
       "      <td>02</td>\n",
       "      <td>49</td>\n",
       "      <td>January</td>\n",
       "      <td>3.0</td>\n",
       "      <td>1959.0</td>\n",
       "      <td>{\"rings\": [[[-2650007.5568000004, 5838549.7893...</td>\n",
       "    </tr>\n",
       "    <tr>\n",
       "      <th>4</th>\n",
       "      <td>0.0</td>\n",
       "      <td>2361460.348436</td>\n",
       "      <td>9267.466238</td>\n",
       "      <td>5</td>\n",
       "      <td>0.167</td>\n",
       "      <td>6.0</td>\n",
       "      <td>Alaska</td>\n",
       "      <td>02</td>\n",
       "      <td>49</td>\n",
       "      <td>January</td>\n",
       "      <td>3.0</td>\n",
       "      <td>1959.0</td>\n",
       "      <td>{\"rings\": [[[-2644430.9363999963, 5825202.4289...</td>\n",
       "    </tr>\n",
       "  </tbody>\n",
       "</table>\n",
       "</div>"
      ],
      "text/plain": [
       "   onemap_sdeadmin_usa_states_area           Shape__Area    Shape__Length  \\\n",
       "0                          267.357  1979285583586.921143  29922889.954455   \n",
       "1                              0.0        3382181.319962     12074.827452   \n",
       "2                              0.0         1576285.42491      6235.419621   \n",
       "3                              0.0         2656460.95422     15243.315954   \n",
       "4                              0.0        2361460.348436      9267.466238   \n",
       "\n",
       "   objectid  perimeter  statesp020   state state_fips  order_adm month_adm  \\\n",
       "0         1    374.768         2.0  Alaska         02         49   January   \n",
       "1         2      0.224         3.0  Alaska         02         49   January   \n",
       "2         3      0.118         4.0  Alaska         02         49   January   \n",
       "3         4      0.276         5.0  Alaska         02         49   January   \n",
       "4         5      0.167         6.0  Alaska         02         49   January   \n",
       "\n",
       "   day_adm  year_adm                                              SHAPE  \n",
       "0      3.0    1959.0  {\"rings\": [[[-2744517.7946000025, 5879742.8082...  \n",
       "1      3.0    1959.0  {\"rings\": [[[-2657753.126500003, 5868445.36879...  \n",
       "2      3.0    1959.0  {\"rings\": [[[-2653616.897699997, 5848470.94200...  \n",
       "3      3.0    1959.0  {\"rings\": [[[-2650007.5568000004, 5838549.7893...  \n",
       "4      3.0    1959.0  {\"rings\": [[[-2644430.9363999963, 5825202.4289...  "
      ]
     },
     "execution_count": 20,
     "metadata": {},
     "output_type": "execute_result"
    }
   ],
   "source": [
    "#Explore \n",
    "sdf_state.head()"
   ]
  },
  {
   "cell_type": "code",
   "execution_count": 21,
   "id": "3e82091e",
   "metadata": {},
   "outputs": [
    {
     "data": {
      "text/plain": [
       "{'wkid': 32119, 'latestWkid': 32119}"
      ]
     },
     "execution_count": 21,
     "metadata": {},
     "output_type": "execute_result"
    }
   ],
   "source": [
    "#Get the spatial reference\n",
    "sdf_state.spatial.sr"
   ]
  }
 ],
 "metadata": {
  "kernelspec": {
   "display_name": "base",
   "language": "python",
   "name": "python3"
  },
  "language_info": {
   "codemirror_mode": {
    "name": "ipython",
    "version": 3
   },
   "file_extension": ".py",
   "mimetype": "text/x-python",
   "name": "python",
   "nbconvert_exporter": "python",
   "pygments_lexer": "ipython3",
   "version": "3.11.8"
  }
 },
 "nbformat": 4,
 "nbformat_minor": 5
}

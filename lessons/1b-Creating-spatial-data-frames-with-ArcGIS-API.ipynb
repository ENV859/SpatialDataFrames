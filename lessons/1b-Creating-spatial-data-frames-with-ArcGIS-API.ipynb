{
 "cells": [
  {
   "cell_type": "markdown",
   "id": "c35024c5",
   "metadata": {},
   "source": [
    "# Spatial Dataframes 1b: Creating them using the ArcGIS API for Python\n",
    "ENV 859 - Fall 2024 \n",
    "© John Fay, Duke University"
   ]
  },
  {
   "cell_type": "markdown",
   "id": "e23c27f0",
   "metadata": {},
   "source": [
    "~~Note: This notebook should be run using the default Conda environment included with ArcGIS Pro~~"
   ]
  },
  {
   "cell_type": "markdown",
   "id": "3f85c13b",
   "metadata": {},
   "source": [
    "### The ArcGIS Python API vs GeoPandas\n",
    "In ***Spatial Dataframes 1a*** we focused on reading data in to spatial dataframes using the **GeoPandas** package. Here we exlore an alternative: the **ArcGIS API for Python**. Why are there two packages? What's the difference? \n",
    "\n",
    "Both packages are built on-top of Pandas dataframes and include all the functionality of the Pandas package in dealing with spatial dataframes as standard dataframes. Both introduce geometries as a new data type, and by attaching these geometries to dataframes, enable various types of spatial analyses with our dataframes. \n",
    "\n",
    "The key difference seems to be from where they originated and how they evolved. GeoPandas is built off of the Shapely library for dealing with geometric objects and the Fiona library for reading and writing different recognized spatial data formats. And deeper down, Geopandas uses the open source GDAL (geospatial data abstraction library) as the computation engine that drives spatial analyses. \n",
    "\n",
    "The ArcGIS API for Python, in contrast, originated as a cloud based version of ESRI's ArcPy package. ESRI has long been developing cyberinfrastructure for web-based access to and processing of spatial data, and they have developed a host of Java based instructions for doing this. Recognizing the popularity of Python, however, ESRI has more recently developed the ArcGIS API for Python as an alternative to working with on-line spatial data. And included in this Python based offering is ESRI's own version of the spatial dataframe, what they call the \"***spatially enabled dataframe***\". \n",
    "\n",
    "The bottom line is that these two Python objects - GeoPandas' geodataframe and ESRI's spatially enabled dataframe - are quite similar, but have some key differences. They also evolve at different paces. Which one should you use? That depends on what you are doing, as each as its own advantages and limitations. The best thing to do is find a level of comfort with each and see how they compare across different tasks..."
   ]
  },
  {
   "cell_type": "markdown",
   "id": "36e97bd8",
   "metadata": {},
   "source": [
    "## The Lesson  - Constructing Spatial Dataframes with the ArcGIS API\n",
    "Similar to our last lesson using GeoPandas, we'll explore the techniques for importing data in various formats into spatial dataframes. We'll use the same datasets as that lesson so you can easily compare and contrast the methods.\n",
    "\n",
    "The source formats we examine include:\n",
    "1. [A delimited text file (e.g. CSV) containing coordinate columns and a know coordinate reference system](#1.1---Creating-spatial-dataframes-from-CSV-files-using-GeoPandas)\n",
    "2. [An existing feature class in the form of a shapefile or within a geodatabase](#1.2:-Creating-spatial-dataframes-from-existing-feature-classes)\n",
    "3. [Other formats: GeoJSON files, KML, and [kind of] GeoDatabases](#1.3---Creating-spatial-dataframes-from-other-file-formats)"
   ]
  },
  {
   "cell_type": "markdown",
   "id": "24d15043",
   "metadata": {},
   "source": [
    "### 1.1 - Creating spatial dataframes from CSV files using the ArcGIS Python API\n",
    "We revisit the electric vehicle charging locations in North Carolina obtained from the Alternative Fuels Data Center ([link](https://afdc.energy.gov/data_download)). \n",
    "\n",
    "The process of importing a CSV file into a \"spatially enabled dataframe\" is done via the ArcGIS API's [***GeoAccessor***](https://developers.arcgis.com/python/api-reference/arcgis.features.toc.html#geoaccessor) object, which has a function called `from_xy()` that converts a pandas dataframe to a spatial dataframe. This differes from the GeoPandas workflow in that we don't have to create a GeoSeries object; we just specify the X and Y coordinate columns."
   ]
  },
  {
   "cell_type": "markdown",
   "id": "3438d9ec",
   "metadata": {},
   "source": [
    "#### Step 1. Import the GeoAccessor object and read the CSV file directly\n",
    "We could simply import the `arcgis` package in its entirety, but it is a rather large package and often we import the bits we need. In this case, we just want the GeoAccessor object, which is part of the `features` submodule of the `arcgis` package.\n",
    "\n",
    "We also import the Pandas package, used to read the CSV data into a standard dataframe. Then, we invoke the GeoAccessor's `read_xy()` function to \"upgrade\" the dataframe into a spatial dataframe. "
   ]
  },
  {
   "cell_type": "code",
   "execution_count": 2,
   "id": "ee7e734b",
   "metadata": {},
   "outputs": [],
   "source": [
    "#Import pandas and the arcgis GeoAccessor object\n",
    "import pandas as pd\n",
    "from arcgis import GeoAccessor"
   ]
  },
  {
   "cell_type": "code",
   "execution_count": 4,
   "id": "bee9ae21",
   "metadata": {},
   "outputs": [],
   "source": [
    "#Read the data into a Pandas dataframe\n",
    "df = pd.read_csv('../data/NC_Charging_Stations.csv')"
   ]
  },
  {
   "cell_type": "code",
   "execution_count": null,
   "id": "27899262",
   "metadata": {},
   "outputs": [],
   "source": [
    "#Review the read_xy() function's syntax\n",
    "GeoAccessor.from_xy?"
   ]
  },
  {
   "cell_type": "markdown",
   "id": "2b526834",
   "metadata": {},
   "source": [
    "##### ►Spatial references with the GeoAccessor object\n",
    "Spatial references (aka coordinate reference systems in GeoPandas) are also handled via WKIDs. "
   ]
  },
  {
   "cell_type": "code",
   "execution_count": 5,
   "id": "9851a049",
   "metadata": {},
   "outputs": [],
   "source": [
    "#Read the EV Charging station data into a Pandas dataframe\n",
    "sdf ="
   ]
  },
  {
   "cell_type": "markdown",
   "id": "26c21d2e",
   "metadata": {},
   "source": [
    "#### 1.2 Explore our new object"
   ]
  },
  {
   "cell_type": "code",
   "execution_count": null,
   "id": "5ed7132d",
   "metadata": {},
   "outputs": [],
   "source": [
    "#View a few records\n"
   ]
  },
  {
   "cell_type": "code",
   "execution_count": null,
   "id": "de893aed",
   "metadata": {},
   "outputs": [],
   "source": [
    "#Examine the data type of the object we just created\n"
   ]
  },
  {
   "cell_type": "markdown",
   "id": "8dbd19fd",
   "metadata": {},
   "source": [
    "*►Hmmm... that's odd. It's still a Pandas dataframe --- or so it appears.* \n",
    "\n",
    "The ArcGIS API handles dataframes a bit differently. The object we created *is* recognized as a Pandas dataframe, but we can now append `.spatial` to the end of it to access its spatial capabilities..."
   ]
  },
  {
   "cell_type": "code",
   "execution_count": null,
   "id": "ce02fd62",
   "metadata": {},
   "outputs": [],
   "source": [
    "#Examine the \"spatially enabled\" dataframe\n"
   ]
  },
  {
   "cell_type": "code",
   "execution_count": null,
   "id": "76c53513",
   "metadata": {},
   "outputs": [],
   "source": [
    "#Examine a few properties of this object\n"
   ]
  },
  {
   "cell_type": "code",
   "execution_count": null,
   "id": "48fb57fc",
   "metadata": {},
   "outputs": [],
   "source": [
    "#Plot the data\n"
   ]
  },
  {
   "cell_type": "markdown",
   "id": "034fc2e6",
   "metadata": {},
   "source": [
    "### 1.2: Creating spatial dataframes from existing feature classes\n",
    "Here we look at the process of getting existing feature classes, e.g. Shapefiles, into spatial dataframes. Now we'll do this using the ArcGIS API for Python. \n",
    "\n",
    "The dataset we'll use represents major river basins of North Carolina (source: https://data-ncdenr.opendata.arcgis.com/datasets/ncdenr::major-river-basins), a copy of which has been downloaded into the data folder as `Major_Basins.shp`. "
   ]
  },
  {
   "cell_type": "markdown",
   "id": "9e317bbe",
   "metadata": {},
   "source": [
    "#### Step 1. Importing shapefiles using `from_featureclass()`\n",
    "Importing feature classes using GeoPandas is easy with the `from_featureclass()` command. "
   ]
  },
  {
   "cell_type": "code",
   "execution_count": null,
   "id": "39081f02",
   "metadata": {},
   "outputs": [],
   "source": [
    "#Explore the GeoAccessor's from_featureclass() command\n",
    "GeoAccessor.from_featureclass?"
   ]
  },
  {
   "cell_type": "code",
   "execution_count": null,
   "id": "fc584c9d",
   "metadata": {},
   "outputs": [],
   "source": [
    "#Read the shapefile into a GeoPandas geodataframe\n",
    "sdf_shp = "
   ]
  },
  {
   "cell_type": "code",
   "execution_count": null,
   "id": "8c9e8b5a",
   "metadata": {},
   "outputs": [],
   "source": [
    "#Examine the data\n"
   ]
  },
  {
   "cell_type": "code",
   "execution_count": null,
   "id": "da473a68",
   "metadata": {},
   "outputs": [],
   "source": [
    "#What is the spatial reference of the data\n"
   ]
  },
  {
   "cell_type": "code",
   "execution_count": null,
   "id": "681226e3",
   "metadata": {},
   "outputs": [],
   "source": [
    "#Plot the data...\n"
   ]
  },
  {
   "cell_type": "markdown",
   "id": "b544c4b1",
   "metadata": {},
   "source": [
    "### 1.3 - Creating spatial dataframes from other file formats\n",
    "\n",
    "A look at the other \"`from_`\" operations associated with the GeoAccessor object reveals other datasources we can read into ArcGIS spatally enabled dataframes. GeoJSON and KML are NOT listed here (though GeoDataframe is, meaning we can potentially read in these files using GeoPandas into a geodataframe, and then convert this into a spatially enabled dataframe...)."
   ]
  },
  {
   "cell_type": "code",
   "execution_count": null,
   "id": "ddfe27f8",
   "metadata": {},
   "outputs": [],
   "source": [
    "#Explore other import options associated with the GeoAccessor object\n",
    "GeoAccessor."
   ]
  },
  {
   "cell_type": "markdown",
   "id": "1efad990",
   "metadata": {},
   "source": [
    "Recalling that the ArcGIS Python API was developed for cloud-based computing, however, we see that it is quite adept at working with on-line resources. For example, you may have noticed pages that look like this:  \n",
    "<https://services.nconemap.gov/secure/rest/services>  \n",
    "\n",
    "This is a listing of a number of spatial (and sometimes non-spatial) datasets served online. Click on some of the links labeled \"Feature Server\" and that will reveal feature layers associated with that service. For example:   \n",
    "https://services.nconemap.gov/secure/rest/services/NC1Map_Regional_Boundaries/FeatureServer \n",
    "Reveals two layers (state boundaries (1) and county boundaries (1)\n",
    "\n",
    "The ArcGIS API can import these as spatial dataframes fairly easily from the web address associated with these layers. This is done not with the *GeoAccessor*, but with the ***FeatureLayer*** object..."
   ]
  },
  {
   "cell_type": "code",
   "execution_count": null,
   "id": "0b5d7d47",
   "metadata": {},
   "outputs": [],
   "source": [
    "#Import the FeatureLayer arcgis package\n",
    "from arcgis.features import FeatureLayer"
   ]
  },
  {
   "cell_type": "code",
   "execution_count": null,
   "id": "486533d0",
   "metadata": {},
   "outputs": [],
   "source": [
    "#Set the urls where the feature layer are hosted\n",
    "state_layer_url = 'https://services.nconemap.gov/secure/rest/services/NC1Map_Regional_Boundaries/FeatureServer/0'\n",
    "county_layer_url = 'https://services.nconemap.gov/secure/rest/services/NC1Map_Regional_Boundaries/FeatureServer/1'"
   ]
  },
  {
   "cell_type": "code",
   "execution_count": null,
   "id": "59ae3d4f",
   "metadata": {},
   "outputs": [],
   "source": [
    "#Read the data in as a feature layer\n"
   ]
  },
  {
   "cell_type": "code",
   "execution_count": null,
   "id": "e1d33011",
   "metadata": {},
   "outputs": [],
   "source": [
    "#Conver to a spatial dataframe\n"
   ]
  },
  {
   "cell_type": "code",
   "execution_count": null,
   "id": "6edefdc8",
   "metadata": {},
   "outputs": [],
   "source": [
    "#Explore \n"
   ]
  },
  {
   "cell_type": "code",
   "execution_count": null,
   "id": "8d0b16bf",
   "metadata": {},
   "outputs": [],
   "source": [
    "#Get the spatial reference\n"
   ]
  }
 ],
 "metadata": {
  "kernelspec": {
   "display_name": "Python 3 (ipykernel)",
   "language": "python",
   "name": "python3"
  },
  "language_info": {
   "codemirror_mode": {
    "name": "ipython",
    "version": 3
   },
   "file_extension": ".py",
   "mimetype": "text/x-python",
   "name": "python",
   "nbconvert_exporter": "python",
   "pygments_lexer": "ipython3",
   "version": "3.9.16"
  }
 },
 "nbformat": 4,
 "nbformat_minor": 5
}
